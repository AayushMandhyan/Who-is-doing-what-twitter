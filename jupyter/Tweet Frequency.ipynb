{
 "cells": [
  {
   "cell_type": "code",
   "execution_count": 9,
   "metadata": {},
   "outputs": [],
   "source": [
    "import json\n",
    "from datetime import datetime\n",
    "\n",
    "#time format\n",
    "tweet_date_format = '%a %b %d %X %z %Y'"
   ]
  },
  {
   "cell_type": "code",
   "execution_count": 10,
   "metadata": {},
   "outputs": [],
   "source": [
    "tweet_frequency = {}\n",
    "tweet_cluster = json.loads(open('../result/tweet_cluster.json').read())"
   ]
  },
  {
   "cell_type": "code",
   "execution_count": 29,
   "metadata": {},
   "outputs": [],
   "source": [
    "for key, values in tweet_cluster.items():\n",
    "    for tweet in values:\n",
    "        tweet_date_unformated = tweet['created_at']\n",
    "        parsed_retweet_creation_date = datetime.strptime(tweet_date_unformated, tweet_date_format)\n",
    "        tweet_date = str(parsed_retweet_creation_date.year)+ '-' + str(parsed_retweet_creation_date.month) + '-' + str(parsed_retweet_creation_date.day)\n",
    "        try:\n",
    "            tweet_frequency[key][tweet_date] += 1\n",
    "        except:\n",
    "            tweet_frequency[key][tweet_date] = 1"
   ]
  },
  {
   "cell_type": "code",
   "execution_count": 32,
   "metadata": {},
   "outputs": [],
   "source": [
    "with open('../result/tweet_cluster_frequency.json', \"w\") as write_file:\n",
    "    json.dump(tweet_frequency, write_file)"
   ]
  }
 ],
 "metadata": {
  "kernelspec": {
   "display_name": "Python 3",
   "language": "python",
   "name": "python3"
  },
  "language_info": {
   "codemirror_mode": {
    "name": "ipython",
    "version": 3
   },
   "file_extension": ".py",
   "mimetype": "text/x-python",
   "name": "python",
   "nbconvert_exporter": "python",
   "pygments_lexer": "ipython3",
   "version": "3.6.6"
  }
 },
 "nbformat": 4,
 "nbformat_minor": 2
}
